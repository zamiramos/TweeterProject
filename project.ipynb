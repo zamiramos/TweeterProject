{
 "cells": [
  {
   "cell_type": "markdown",
   "metadata": {},
   "source": [
    "# Collecting Data (Tweets from NY)"
   ]
  },
  {
   "cell_type": "markdown",
   "metadata": {},
   "source": [
    "# Data - PreProcessing"
   ]
  },
  {
   "cell_type": "markdown",
   "metadata": {},
   "source": [
    "Because we don't have property of gender in tweet structure, we needed to use the NLTK well known names to build our train dataset.\n",
    "\n",
    "In order to extract as much as possible the correct gender, we filter all the names which can be use for female and for male."
   ]
  },
  {
   "cell_type": "code",
   "execution_count": 8,
   "metadata": {
    "collapsed": false
   },
   "outputs": [],
   "source": [
    "#import nltk\n",
    "#nltk.download()\n",
    "\n",
    "from nltk.corpus import names\n",
    "\n",
    "def GetWellDefineGenderFromName(first_name):\n",
    "    first_name = first_name.lower()\n",
    "    first_name = first_name.title()\n",
    "    matchMale = False\n",
    "    matchFemale = False\n",
    "    if first_name in names.words(\"male.txt\"):\n",
    "        matchMale = True\n",
    "    if first_name in names.words(\"female.txt\"):\n",
    "        matchFemale = True\n",
    "    if matchMale and matchFemale:\n",
    "        return None\n",
    "        \n",
    "    if matchMale:        \n",
    "        return 'male'\n",
    "        \n",
    "    if matchFemale:\n",
    "        return 'female'        \n",
    "        \n",
    "    return None"
   ]
  },
  {
   "cell_type": "markdown",
   "metadata": {},
   "source": [
    "## Fetch raw data from tweeter"
   ]
  },
  {
   "cell_type": "code",
   "execution_count": null,
   "metadata": {
    "collapsed": false,
    "scrolled": true
   },
   "outputs": [],
   "source": [
    "#!conda install -c conda-forge tweepy=3.5.0\n",
    "#!conda install -c malev gender_detector=0.1.0\n",
    "\n",
    "import tweepy\n",
    "from tweepy import Stream\n",
    "from tweepy.streaming import StreamListener\n",
    "import requests\n",
    "import json\n",
    "\n",
    "#function to determine gender from first name\n",
    "#estimate the gender at the level of confidence above 0.50        \n",
    "#gender = GetGender(first_name, 0.50)\n",
    "#print('Gender: %s' % gender)\n",
    "def GetGender(name, probability):\n",
    "    r = requests.get(\"https://api.genderize.io/?name=%s\"% name)\n",
    "    r_json = json.loads(r.content)\n",
    "    \n",
    "    if r_json['gender'] == 'null':\n",
    "        return None\n",
    "    \n",
    "    if float(r_json['probability']) < probability:\n",
    "        return None\n",
    "    \n",
    "    return r_json['gender']    \n",
    "\n",
    "auth = tweepy.OAuthHandler(consumer_key, consumer_secret)\n",
    "auth.set_access_token(access_token, access_token_secret)\n",
    "\n",
    "api = tweepy.API(auth)\n",
    "\n",
    "class StdOutListener(StreamListener):\n",
    "    def on_data(self, data):            \n",
    "        \n",
    "        tweet = json.loads(data)\n",
    "        \n",
    "        if not tweet.get('user'):\n",
    "            return True\n",
    "        \n",
    "        user = tweet['user']    \n",
    "        \n",
    "        if user['lang'] != 'en':\n",
    "            return True\n",
    "        \n",
    "        if user['location'] is None:\n",
    "            return True\n",
    "        \n",
    "        if 'New York' not in user['location'] and 'NY' not in user['location']:\n",
    "            return True\n",
    "        \n",
    "        gender = GetWellDefineGenderFromName(user['name'].encode('utf-8').split()[0])\n",
    "        \n",
    "        if gender is None:\n",
    "            return True\n",
    "        \n",
    "        # append the hourly tweet file\n",
    "        with open('tweets.data', 'a+') as f:\n",
    "            f.write(data)            \n",
    "        \n",
    "        return True\n",
    "    \n",
    "    def on_error(self, status):\n",
    "        print('status: %s' % status)\n",
    "\n",
    "streamListener = StdOutListener()\n",
    "stream = Stream(auth, streamListener, timeout=30)\n",
    "stream.filter(locations=[-74,40,-73,41], track=['The', 'I', 'she', 'and'])"
   ]
  },
  {
   "cell_type": "markdown",
   "metadata": {},
   "source": [
    "## Data Cleaning - Define fucntions"
   ]
  },
  {
   "cell_type": "markdown",
   "metadata": {},
   "source": [
    "### Decoding text to Ascii"
   ]
  },
  {
   "cell_type": "markdown",
   "metadata": {
    "collapsed": false
   },
   "source": [
    "Decoding data: Thisis the process of transforming information from complex symbols to simple and easier to understand characters. Text data may be subject to different forms of decoding like “Latin”, “UTF8” etc. Therefore, for better analysis, it is necessary to keep the complete data in standard encoding format. UTF-8 encoding is widely accepted and is recommended to use."
   ]
  },
  {
   "cell_type": "code",
   "execution_count": 2,
   "metadata": {
    "collapsed": false
   },
   "outputs": [],
   "source": [
    "def UTFToAscii(string):\n",
    "    return string.decode('ascii', 'ignore')"
   ]
  },
  {
   "cell_type": "markdown",
   "metadata": {},
   "source": [
    "### Remove URLs, hashtags, @user_reference"
   ]
  },
  {
   "cell_type": "code",
   "execution_count": 3,
   "metadata": {
    "collapsed": false,
    "scrolled": true
   },
   "outputs": [],
   "source": [
    "import re\n",
    "import urlparse\n",
    "\n",
    "def RemoveNonWords(string):\n",
    "    return re.sub(\"(@[A-Za-z0-9]+)|([^0-9A-Za-z \\t])|(\\w+:\\/\\/\\S+)\", \"\", string)\n",
    "\n",
    "def RemoveSymbols(string):\n",
    "    new_string = ''\n",
    "    for i in string.split():\n",
    "        s, n, p, pa, q, f = urlparse.urlparse(i)\n",
    "        if s and n:\n",
    "            pass\n",
    "        elif i[:1] == '@':\n",
    "            new_string = new_string.strip() + ' ' + i[1:]\n",
    "        elif i[:1] == '#':\n",
    "            new_string = new_string.strip() + ' ' + i[1:]\n",
    "        else:\n",
    "            new_string = new_string.strip() + ' ' + i\n",
    "    return new_string"
   ]
  },
  {
   "cell_type": "markdown",
   "metadata": {},
   "source": [
    "### Handle Escaping Characters"
   ]
  },
  {
   "cell_type": "code",
   "execution_count": 4,
   "metadata": {
    "collapsed": false
   },
   "outputs": [],
   "source": [
    "import HTMLParser\n",
    "\n",
    "def RemoveEscaping(string):\n",
    "    html_parser = HTMLParser.HTMLParser()\n",
    "    return html_parser.unescape(string)"
   ]
  },
  {
   "cell_type": "markdown",
   "metadata": {},
   "source": [
    "### Convert to lowercase"
   ]
  },
  {
   "cell_type": "code",
   "execution_count": 5,
   "metadata": {
    "collapsed": false
   },
   "outputs": [],
   "source": [
    "def ToLowercase(string):\n",
    "    return string.lower()"
   ]
  },
  {
   "cell_type": "markdown",
   "metadata": {},
   "source": [
    "### Handle Apostrophe Lookup"
   ]
  },
  {
   "cell_type": "code",
   "execution_count": 6,
   "metadata": {
    "collapsed": false
   },
   "outputs": [],
   "source": [
    "import csv\n",
    "\n",
    "def ReplaceApostrophe(string):\n",
    "    appostophes_dict = None\n",
    "\n",
    "    with open('appostophes.csv', mode='r') as infile:\n",
    "        reader = csv.reader(infile)\n",
    "        appostophes_dict = {rows[0]:rows[1] for rows in reader}\n",
    "    \n",
    "    words = string.split()\n",
    "    reformed = [appostophes_dict[word] if word in appostophes_dict else word for word in words]\n",
    "    string = \" \".join(reformed)\n",
    "    return string\n",
    "    "
   ]
  },
  {
   "cell_type": "markdown",
   "metadata": {},
   "source": [
    "### Clean RT"
   ]
  },
  {
   "cell_type": "code",
   "execution_count": 18,
   "metadata": {
    "collapsed": false
   },
   "outputs": [],
   "source": [
    "def RemoveRT(string):\n",
    "    words = string.split()\n",
    "    reformed = ['' if word in 'RT' else word for word in words]\n",
    "    string = \" \".join(reformed)\n",
    "    return string"
   ]
  },
  {
   "cell_type": "markdown",
   "metadata": {},
   "source": [
    "### Flat Lines"
   ]
  },
  {
   "cell_type": "code",
   "execution_count": 37,
   "metadata": {
    "collapsed": true
   },
   "outputs": [],
   "source": [
    "def FlatLines(string):\n",
    "    lines = string.splitlines()\n",
    "    string = \" \".join(lines)\n",
    "    return string"
   ]
  },
  {
   "cell_type": "markdown",
   "metadata": {},
   "source": [
    "## Create dataframe from Json tweets file"
   ]
  },
  {
   "cell_type": "code",
   "execution_count": 40,
   "metadata": {
    "collapsed": false,
    "scrolled": true
   },
   "outputs": [],
   "source": [
    "import pandas as pd\n",
    "import json\n",
    "\n",
    "def IsEnglish(s):\n",
    "    for i in s.split():\n",
    "        if not i.isalpha():\n",
    "            return False\n",
    "    return True    \n",
    "\n",
    "#read data from tweets.data\n",
    "\n",
    "tweets_df = pd.DataFrame(columns=['id', 'text','name', 'gender'])\n",
    "for line in open('tweets.data', 'r'):    \n",
    "    tweet_data = json.loads(line)\n",
    "    tweet_fullname = tweet_data['user']['name'].encode('utf-8')\n",
    "    if IsEnglish(tweet_fullname) == False:\n",
    "        continue\n",
    "\n",
    "    if len(tweet_fullname.split()) < 2:\n",
    "        continue\n",
    "\n",
    "    tweet_text = tweet_data['text'].encode('utf-8')\n",
    "    tweet_text = UTFToAscii(tweet_text)\n",
    "    tweet_text = RemoveEscaping(tweet_text)\n",
    "    tweet_text = FlatLines(tweet_text)\n",
    "    tweet_text = RemoveNonWords(tweet_text)    \n",
    "    tweet_text = RemoveRT(tweet_text)\n",
    "    tweet_text = ToLowercase(tweet_text)\n",
    "    tweet_text = ReplaceApostrophe(tweet_text)\n",
    "\n",
    "    #filter all text that smaller then 2 words\n",
    "    if len(tweet_text.split()) < 3:\n",
    "        continue\n",
    "    \n",
    "    #filter all names with no legal capital letter\n",
    "    if  len(re.findall(r'[A-Z]',tweet_fullname)) != len(tweet_fullname.split()):            \n",
    "        continue\n",
    "    \n",
    "    gender = GetWellDefineGenderFromName(tweet_fullname.split()[0])\n",
    "    \n",
    "    if gender is None:\n",
    "        continue\n",
    "\n",
    "    tweets_df.loc[len(tweets_df)]=[tweet_data['id_str'], tweet_text, tweet_fullname, gender]\n"
   ]
  },
  {
   "cell_type": "code",
   "execution_count": 55,
   "metadata": {
    "collapsed": false
   },
   "outputs": [
    {
     "data": {
      "text/html": [
       "<div>\n",
       "<table border=\"1\" class=\"dataframe\">\n",
       "  <thead>\n",
       "    <tr style=\"text-align: right;\">\n",
       "      <th></th>\n",
       "      <th>id</th>\n",
       "      <th>text</th>\n",
       "      <th>name</th>\n",
       "      <th>gender</th>\n",
       "    </tr>\n",
       "  </thead>\n",
       "  <tbody>\n",
       "    <tr>\n",
       "      <th>0</th>\n",
       "      <td>875088051977977856</td>\n",
       "      <td>how to give your employees the recognition the...</td>\n",
       "      <td>Guy Santeramo</td>\n",
       "      <td>male</td>\n",
       "    </tr>\n",
       "    <tr>\n",
       "      <th>1</th>\n",
       "      <td>875088067471831043</td>\n",
       "      <td>that was lovely thank you for sharing i too lo...</td>\n",
       "      <td>Alexa Harrison</td>\n",
       "      <td>female</td>\n",
       "    </tr>\n",
       "    <tr>\n",
       "      <th>2</th>\n",
       "      <td>875088072786022400</td>\n",
       "      <td>sling could a team made entirely of players wh...</td>\n",
       "      <td>Jay Zampi</td>\n",
       "      <td>male</td>\n",
       "    </tr>\n",
       "    <tr>\n",
       "      <th>3</th>\n",
       "      <td>875088110736089089</td>\n",
       "      <td>my fan theory is that your fan theory has noth...</td>\n",
       "      <td>Susana Polo</td>\n",
       "      <td>female</td>\n",
       "    </tr>\n",
       "    <tr>\n",
       "      <th>4</th>\n",
       "      <td>875088135889334273</td>\n",
       "      <td>if you say so princess im sure hell love to se...</td>\n",
       "      <td>Brad Gibson</td>\n",
       "      <td>male</td>\n",
       "    </tr>\n",
       "    <tr>\n",
       "      <th>5</th>\n",
       "      <td>875088148770033665</td>\n",
       "      <td>when she asks you what you bring to the table</td>\n",
       "      <td>Solomon Grundy</td>\n",
       "      <td>male</td>\n",
       "    </tr>\n",
       "    <tr>\n",
       "      <th>6</th>\n",
       "      <td>875088173939818497</td>\n",
       "      <td>finally biting the bullet and reserving hotel ...</td>\n",
       "      <td>Meg Roy</td>\n",
       "      <td>female</td>\n",
       "    </tr>\n",
       "    <tr>\n",
       "      <th>7</th>\n",
       "      <td>875088203258109952</td>\n",
       "      <td>im speaking at digipub summit in new york this...</td>\n",
       "      <td>Adam Smith</td>\n",
       "      <td>male</td>\n",
       "    </tr>\n",
       "    <tr>\n",
       "      <th>8</th>\n",
       "      <td>875088215715217410</td>\n",
       "      <td>this couldnt be easier i just called my rep to...</td>\n",
       "      <td>Krystyna Hutchinson</td>\n",
       "      <td>female</td>\n",
       "    </tr>\n",
       "    <tr>\n",
       "      <th>9</th>\n",
       "      <td>875088231964041218</td>\n",
       "      <td>the gun contagion in america continues to thre...</td>\n",
       "      <td>Michael Corley</td>\n",
       "      <td>male</td>\n",
       "    </tr>\n",
       "  </tbody>\n",
       "</table>\n",
       "</div>"
      ],
      "text/plain": [
       "                   id                                               text  \\\n",
       "0  875088051977977856  how to give your employees the recognition the...   \n",
       "1  875088067471831043  that was lovely thank you for sharing i too lo...   \n",
       "2  875088072786022400  sling could a team made entirely of players wh...   \n",
       "3  875088110736089089  my fan theory is that your fan theory has noth...   \n",
       "4  875088135889334273  if you say so princess im sure hell love to se...   \n",
       "5  875088148770033665      when she asks you what you bring to the table   \n",
       "6  875088173939818497  finally biting the bullet and reserving hotel ...   \n",
       "7  875088203258109952  im speaking at digipub summit in new york this...   \n",
       "8  875088215715217410  this couldnt be easier i just called my rep to...   \n",
       "9  875088231964041218  the gun contagion in america continues to thre...   \n",
       "\n",
       "                  name  gender  \n",
       "0        Guy Santeramo    male  \n",
       "1       Alexa Harrison  female  \n",
       "2            Jay Zampi    male  \n",
       "3          Susana Polo  female  \n",
       "4          Brad Gibson    male  \n",
       "5       Solomon Grundy    male  \n",
       "6              Meg Roy  female  \n",
       "7           Adam Smith    male  \n",
       "8  Krystyna Hutchinson  female  \n",
       "9       Michael Corley    male  "
      ]
     },
     "execution_count": 55,
     "metadata": {},
     "output_type": "execute_result"
    }
   ],
   "source": [
    "tweets_df.head(10)"
   ]
  },
  {
   "cell_type": "code",
   "execution_count": 56,
   "metadata": {
    "collapsed": false
   },
   "outputs": [
    {
     "data": {
      "text/html": [
       "<div>\n",
       "<table border=\"1\" class=\"dataframe\">\n",
       "  <thead>\n",
       "    <tr style=\"text-align: right;\">\n",
       "      <th></th>\n",
       "      <th>id</th>\n",
       "      <th>text</th>\n",
       "      <th>name</th>\n",
       "      <th>gender</th>\n",
       "    </tr>\n",
       "  </thead>\n",
       "  <tbody>\n",
       "    <tr>\n",
       "      <th>count</th>\n",
       "      <td>2482</td>\n",
       "      <td>2482</td>\n",
       "      <td>2482</td>\n",
       "      <td>2482</td>\n",
       "    </tr>\n",
       "    <tr>\n",
       "      <th>unique</th>\n",
       "      <td>2482</td>\n",
       "      <td>2395</td>\n",
       "      <td>2094</td>\n",
       "      <td>2</td>\n",
       "    </tr>\n",
       "    <tr>\n",
       "      <th>top</th>\n",
       "      <td>875432697602113537</td>\n",
       "      <td>i just want a country where affording health c...</td>\n",
       "      <td>Joel Finch</td>\n",
       "      <td>male</td>\n",
       "    </tr>\n",
       "    <tr>\n",
       "      <th>freq</th>\n",
       "      <td>1</td>\n",
       "      <td>8</td>\n",
       "      <td>11</td>\n",
       "      <td>1507</td>\n",
       "    </tr>\n",
       "  </tbody>\n",
       "</table>\n",
       "</div>"
      ],
      "text/plain": [
       "                        id                                               text  \\\n",
       "count                 2482                                               2482   \n",
       "unique                2482                                               2395   \n",
       "top     875432697602113537  i just want a country where affording health c...   \n",
       "freq                     1                                                  8   \n",
       "\n",
       "              name gender  \n",
       "count         2482   2482  \n",
       "unique        2094      2  \n",
       "top     Joel Finch   male  \n",
       "freq            11   1507  "
      ]
     },
     "execution_count": 56,
     "metadata": {},
     "output_type": "execute_result"
    }
   ],
   "source": [
    "tweets_df.describe()"
   ]
  },
  {
   "cell_type": "code",
   "execution_count": 54,
   "metadata": {
    "collapsed": false,
    "scrolled": true
   },
   "outputs": [
    {
     "data": {
      "text/plain": [
       "id          object\n",
       "text        object\n",
       "name        object\n",
       "gender    category\n",
       "dtype: object"
      ]
     },
     "execution_count": 54,
     "metadata": {},
     "output_type": "execute_result"
    }
   ],
   "source": [
    "tweets_df.dtypes"
   ]
  },
  {
   "cell_type": "code",
   "execution_count": 59,
   "metadata": {
    "collapsed": false
   },
   "outputs": [
    {
     "data": {
      "text/plain": [
       "id        0\n",
       "text      0\n",
       "name      0\n",
       "gender    0\n",
       "dtype: int64"
      ]
     },
     "execution_count": 59,
     "metadata": {},
     "output_type": "execute_result"
    }
   ],
   "source": [
    "tweets_df.isnull().sum()"
   ]
  },
  {
   "cell_type": "code",
   "execution_count": 58,
   "metadata": {
    "collapsed": false
   },
   "outputs": [],
   "source": [
    "tweets_df['gender'] = tweets_df['gender'].astype('category')"
   ]
  },
  {
   "cell_type": "code",
   "execution_count": 65,
   "metadata": {
    "collapsed": false
   },
   "outputs": [
    {
     "data": {
      "text/plain": [
       "<matplotlib.axes._subplots.AxesSubplot at 0xe89d898>"
      ]
     },
     "execution_count": 65,
     "metadata": {},
     "output_type": "execute_result"
    },
    {
     "data": {
      "image/png": "[encoded data removed]",
      "text/plain": [
       "<matplotlib.figure.Figure at 0xe867518>"
      ]
     },
     "metadata": {},
     "output_type": "display_data"
    }
   ],
   "source": [
    "import matplotlib.pyplot as plt\n",
    "import matplotlib\n",
    "matplotlib.style.use('ggplot')\n",
    "\n",
    "%matplotlib inline\n",
    "\n",
    "plt.figure();\n",
    "\n",
    "tweets_df.gender.value_counts().plot(kind='pie')"
   ]
  },
  {
   "cell_type": "code",
   "execution_count": null,
   "metadata": {
    "collapsed": true
   },
   "outputs": [],
   "source": []
  }
 ],
 "metadata": {
  "anaconda-cloud": {},
  "kernelspec": {
   "display_name": "Python [conda root]",
   "language": "python",
   "name": "conda-root-py"
  },
  "language_info": {
   "codemirror_mode": {
    "name": "ipython",
    "version": 2
   },
   "file_extension": ".py",
   "mimetype": "text/x-python",
   "name": "python",
   "nbconvert_exporter": "python",
   "pygments_lexer": "ipython2",
   "version": "2.7.12"
  }
 },
 "nbformat": 4,
 "nbformat_minor": 1
}
